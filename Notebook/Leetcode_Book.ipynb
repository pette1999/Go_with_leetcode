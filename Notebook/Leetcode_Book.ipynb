{
 "cells": [
  {
   "cell_type": "markdown",
   "id": "a5025d96",
   "metadata": {},
   "source": [
    "# Array\n",
    "\n",
    "Given a binary array `nums`, return the maximum number of consecutive 1's in the array.\n",
    "\n",
    "## Example 1:\n",
    "```\n",
    "Input: nums = [1,1,0,1,1,1]\n",
    "Output: 3\n",
    "Explanation: The first two digits or the last three digits are consecutive 1s. The maximum number of consecutive 1s is 3.\n",
    "```\n",
    "\n",
    "## Example 2:\n",
    "```\n",
    "Input: nums = [1,0,1,1,0,1]\n",
    "Output: 2\n",
    "```"
   ]
  },
  {
   "cell_type": "code",
   "execution_count": 3,
   "id": "dfa2806b",
   "metadata": {},
   "outputs": [],
   "source": [
    "def findMaxConsecutiveOnes(nums):\n",
    "    \"\"\"\n",
    "    :type nums: List[int]\n",
    "    :rtype: int\n",
    "    \"\"\"\n",
    "    count = 0\n",
    "    max = 0\n",
    "\n",
    "    for i in nums:\n",
    "        if i == 0:\n",
    "            count = 0 \n",
    "        else:\n",
    "            count += 1\n",
    "            if count > max:\n",
    "                max = count\n",
    "\n",
    "    return max"
   ]
  }
 ],
 "metadata": {
  "kernelspec": {
   "display_name": "Python [conda env:tf_m1] *",
   "language": "python",
   "name": "conda-env-tf_m1-py"
  },
  "language_info": {
   "codemirror_mode": {
    "name": "ipython",
    "version": 3
   },
   "file_extension": ".py",
   "mimetype": "text/x-python",
   "name": "python",
   "nbconvert_exporter": "python",
   "pygments_lexer": "ipython3",
   "version": "3.8.12"
  }
 },
 "nbformat": 4,
 "nbformat_minor": 5
}
